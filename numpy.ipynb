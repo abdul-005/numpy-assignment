{
 "cells": [
  {
   "cell_type": "code",
   "execution_count": 1,
   "id": "93c02c26-9075-47e6-8ea3-80bac60795e4",
   "metadata": {},
   "outputs": [
    {
     "name": "stdout",
     "output_type": "stream",
     "text": [
      "Original array:\n",
      "[[18 31 36]\n",
      " [70 19 41]\n",
      " [54 81 20]]\n",
      "\n",
      "Array with rows and columns interchanged:\n",
      "[[18 70 54]\n",
      " [31 19 81]\n",
      " [36 41 20]]\n"
     ]
    }
   ],
   "source": [
    "# Q1. Create a 3x3 NumPy array with random integers between 1 and 100. Then, interchange its rows and columns.\n",
    "import numpy as np\n",
    "\n",
    "# Create a 3x3 NumPy array with random integers between 1 and 100\n",
    "arr = np.random.randint(1, 101, size=(3, 3))\n",
    "\n",
    "print(\"Original array:\")\n",
    "print(arr)\n",
    "\n",
    "# Interchange rows and columns using transpose\n",
    "arr_transposed = arr.T\n",
    "\n",
    "print(\"\\nArray with rows and columns interchanged:\")\n",
    "print(arr_transposed)\n"
   ]
  },
  {
   "cell_type": "code",
   "execution_count": 2,
   "id": "75b19d29-a6cb-4c76-8514-3542b90cc96d",
   "metadata": {},
   "outputs": [
    {
     "name": "stdout",
     "output_type": "stream",
     "text": [
      "Original 1D array:\n",
      "[ 1  2  3  4  5  6  7  8  9 10]\n",
      "\n",
      "Reshaped into a 2x5 array:\n",
      "[[ 1  2  3  4  5]\n",
      " [ 6  7  8  9 10]]\n",
      "\n",
      "Reshaped into a 5x2 array:\n",
      "[[ 1  2]\n",
      " [ 3  4]\n",
      " [ 5  6]\n",
      " [ 7  8]\n",
      " [ 9 10]]\n"
     ]
    }
   ],
   "source": [
    " # Q2. Generate a 1D NumPy array with 10 elements. Reshape it into a 2x5 array, then into a 5x2 array.import numpy as np\n",
    "\n",
    "# Generate a 1D NumPy array with 10 elements\n",
    "arr = np.arange(1, 11)  # This creates an array [1, 2, 3, ..., 10]\n",
    "\n",
    "print(\"Original 1D array:\")\n",
    "print(arr)\n",
    "\n",
    "# Reshape into a 2x5 array\n",
    "arr_2x5 = arr.reshape(2, 5)\n",
    "\n",
    "print(\"\\nReshaped into a 2x5 array:\")\n",
    "print(arr_2x5)\n",
    "\n",
    "# Reshape into a 5x2 array\n",
    "arr_5x2 = arr_2x5.reshape(5, 2)\n",
    "\n",
    "print(\"\\nReshaped into a 5x2 array:\")\n",
    "print(arr_5x2)\n"
   ]
  },
  {
   "cell_type": "code",
   "execution_count": 3,
   "id": "cfe47b85-3a5d-45d6-9b21-b36ea063e2af",
   "metadata": {},
   "outputs": [
    {
     "name": "stdout",
     "output_type": "stream",
     "text": [
      "Original 4x4 array:\n",
      "[[0.8957532  0.41122738 0.23657406 0.8034657 ]\n",
      " [0.48640707 0.09450008 0.6904271  0.98785549]\n",
      " [0.68117448 0.05827913 0.56510258 0.28125197]\n",
      " [0.44420159 0.73754394 0.66852263 0.50976543]]\n",
      "\n",
      "Resulting 6x6 array with border of zeros:\n",
      "[[0.         0.         0.         0.         0.         0.        ]\n",
      " [0.         0.8957532  0.41122738 0.23657406 0.8034657  0.        ]\n",
      " [0.         0.48640707 0.09450008 0.6904271  0.98785549 0.        ]\n",
      " [0.         0.68117448 0.05827913 0.56510258 0.28125197 0.        ]\n",
      " [0.         0.44420159 0.73754394 0.66852263 0.50976543 0.        ]\n",
      " [0.         0.         0.         0.         0.         0.        ]]\n"
     ]
    }
   ],
   "source": [
    "# Q3. Create a 4x4 NumPy array with random float values. Add a border of zeros around it, resulting in a 6x6 array\n",
    "import numpy as np\n",
    "\n",
    "# Create a 4x4 NumPy array with random float values\n",
    "arr = np.random.rand(4, 4)\n",
    "\n",
    "print(\"Original 4x4 array:\")\n",
    "print(arr)\n",
    "\n",
    "# Create a new 6x6 array filled with zeros\n",
    "arr_6x6 = np.zeros((6, 6))\n",
    "\n",
    "# Place the original 4x4 array in the center of the 6x6 array\n",
    "arr_6x6[1:5, 1:5] = arr\n",
    "\n",
    "print(\"\\nResulting 6x6 array with border of zeros:\")\n",
    "print(arr_6x6)\n"
   ]
  },
  {
   "cell_type": "code",
   "execution_count": 4,
   "id": "1dd7ca00-b953-4207-b90d-c483cb1744f6",
   "metadata": {},
   "outputs": [
    {
     "name": "stdout",
     "output_type": "stream",
     "text": [
      "Array of integers from 10 to 60 with step 5:\n",
      "[10 15 20 25 30 35 40 45 50 55 60]\n"
     ]
    }
   ],
   "source": [
    "# Q4. Using NumPy, create an array of integers from 10 to 60 with a step of 5.\n",
    "import numpy as np\n",
    "\n",
    "# Create an array of integers from 10 to 60 with a step of 5\n",
    "arr = np.arange(10, 61, 5)\n",
    "\n",
    "print(\"Array of integers from 10 to 60 with step 5:\")\n",
    "print(arr)\n"
   ]
  },
  {
   "cell_type": "code",
   "execution_count": 6,
   "id": "883c85e9-1f58-47cf-987c-3915518cee1c",
   "metadata": {},
   "outputs": [
    {
     "name": "stdout",
     "output_type": "stream",
     "text": [
      "Original array:\n",
      "['python' 'numpy' 'pandas']\n",
      "\n",
      "Uppercase:\n",
      "['PYTHON' 'NUMPY' 'PANDAS']\n",
      "\n",
      "Lowercase:\n",
      "['python' 'numpy' 'pandas']\n",
      "\n",
      "Title case:\n",
      "['Python' 'Numpy' 'Pandas']\n",
      "\n",
      "Capitalize case:\n",
      "['Python' 'Numpy' 'Pandas']\n"
     ]
    }
   ],
   "source": [
    "# Q5. Create a NumPy array of strings ['python', 'numpy', 'pandas']. Apply different case transformations\n",
    "#(uppercase, lowercase, title case, etc.) to each element.\n",
    "\n",
    "import numpy as np\n",
    "\n",
    "# Create a NumPy array of strings\n",
    "arr_str = np.array(['python', 'numpy', 'pandas'])\n",
    "\n",
    "# Convert elements to uppercase\n",
    "arr_upper = np.char.upper(arr_str)\n",
    "\n",
    "# Convert elements to lowercase\n",
    "arr_lower = np.char.lower(arr_str)\n",
    "\n",
    "# Convert elements to title case\n",
    "arr_title = np.char.title(arr_str)\n",
    "\n",
    "# Convert elements to capitalize case\n",
    "arr_capitalize = np.char.capitalize(arr_str)\n",
    "\n",
    "# Print the original and transformed arrays\n",
    "print(\"Original array:\")\n",
    "print(arr_str)\n",
    "\n",
    "print(\"\\nUppercase:\")\n",
    "print(arr_upper)\n",
    "\n",
    "print(\"\\nLowercase:\")\n",
    "print(arr_lower)\n",
    "\n",
    "print(\"\\nTitle case:\")\n",
    "print(arr_title)\n",
    "\n",
    "print(\"\\nCapitalize case:\")\n",
    "print(arr_capitalize)\n"
   ]
  },
  {
   "cell_type": "code",
   "execution_count": 11,
   "id": "802eb6b9-04a1-44e0-a60b-8905a30e4fa2",
   "metadata": {},
   "outputs": [
    {
     "name": "stdout",
     "output_type": "stream",
     "text": [
      "Original array:\n",
      "['python' 'numpy' 'pandas']\n",
      "\n",
      "Array with spaces between characters:\n",
      "['p y t h o n' 'n u m p y' 'p a n d a s']\n"
     ]
    }
   ],
   "source": [
    "# Q6 Generate a NumPy array of words. Insert a space between each character of every word in the array.\n",
    "\n",
    "import numpy as np\n",
    "\n",
    "# Create a NumPy array of words\n",
    "arr_words = np.array(['python', 'numpy', 'pandas'])\n",
    "\n",
    "# Define a function to insert space between characters of a word\n",
    "insert_space = np.frompyfunc(lambda x: ' '.join(list(x)), 1, 1)\n",
    "\n",
    "# Apply the function to each word in the array\n",
    "arr_spaced = insert_space(arr_words)\n",
    "\n",
    "# Print the original and spaced arrays\n",
    "print(\"Original array:\")\n",
    "print(arr_words)\n",
    "\n",
    "print(\"\\nArray with spaces between characters:\")\n",
    "print(arr_spaced)\n"
   ]
  },
  {
   "cell_type": "code",
   "execution_count": 16,
   "id": "5d584bd9-a08c-4674-961e-4e645e7b806d",
   "metadata": {},
   "outputs": [
    {
     "name": "stdout",
     "output_type": "stream",
     "text": [
      "Array 1:\n",
      "[[1 2 3]\n",
      " [4 5 6]]\n",
      "\n",
      "Array 2:\n",
      "[[2 3 4]\n",
      " [1 2 3]]\n",
      "\n",
      "Element-wise addition:\n",
      "[[3 5 7]\n",
      " [5 7 9]]\n",
      "\n",
      "Element-wise subtraction:\n",
      "[[-1 -1 -1]\n",
      " [ 3  3  3]]\n",
      "\n",
      "Element-wise multiplication:\n",
      "[[ 2  6 12]\n",
      " [ 4 10 18]]\n",
      "\n",
      "Element-wise division:\n",
      "[[0.5        0.66666667 0.75      ]\n",
      " [4.         2.5        2.        ]]\n"
     ]
    }
   ],
   "source": [
    "# Q7 Create two 2D NumPy arrays and perform element-wise addition, subtraction, multiplication, and division.\n",
    "\n",
    "import numpy as np\n",
    "\n",
    "# Create two 2D NumPy arrays of integers\n",
    "arr1 = np.array([[1, 2, 3],\n",
    "                 [4, 5, 6]])\n",
    "\n",
    "arr2 = np.array([[2, 3, 4],\n",
    "                 [1, 2, 3]])\n",
    "\n",
    "# Element-wise addition\n",
    "addition = arr1 + arr2\n",
    "\n",
    "# Element-wise subtraction\n",
    "subtraction = arr1 - arr2\n",
    "\n",
    "# Element-wise multiplication\n",
    "multiplication = arr1 * arr2\n",
    "\n",
    "# Element-wise division with conversion to float\n",
    "division = arr1.astype(float) / arr2\n",
    "\n",
    "# Print the results\n",
    "print(\"Array 1:\")\n",
    "print(arr1)\n",
    "\n",
    "print(\"\\nArray 2:\")\n",
    "print(arr2)\n",
    "\n",
    "print(\"\\nElement-wise addition:\")\n",
    "print(addition)\n",
    "\n",
    "print(\"\\nElement-wise subtraction:\")\n",
    "print(subtraction)\n",
    "\n",
    "print(\"\\nElement-wise multiplication:\")\n",
    "print(multiplication)\n",
    "\n",
    "print(\"\\nElement-wise division:\")\n",
    "print(division)\n"
   ]
  },
  {
   "cell_type": "code",
   "execution_count": 17,
   "id": "4be7f62d-2633-4ee6-b087-900aacb78845",
   "metadata": {},
   "outputs": [
    {
     "name": "stdout",
     "output_type": "stream",
     "text": [
      "5x5 Identity Matrix:\n",
      "[[1. 0. 0. 0. 0.]\n",
      " [0. 1. 0. 0. 0.]\n",
      " [0. 0. 1. 0. 0.]\n",
      " [0. 0. 0. 1. 0.]\n",
      " [0. 0. 0. 0. 1.]]\n",
      "\n",
      "Diagonal Elements:\n",
      "[1. 1. 1. 1. 1.]\n"
     ]
    }
   ],
   "source": [
    "# Q8. Use NumPy to create a 5x5 identity matrix, then extract its diagonal elements.\n",
    "import numpy as np\n",
    "\n",
    "# Create a 5x5 identity matrix using numpy\n",
    "identity_matrix = np.eye(5)\n",
    "\n",
    "print(\"5x5 Identity Matrix:\")\n",
    "print(identity_matrix)\n",
    "\n",
    "# Extract diagonal elements using numpy's diagonal function\n",
    "diagonal_elements = np.diag(identity_matrix)\n",
    "\n",
    "print(\"\\nDiagonal Elements:\")\n",
    "print(diagonal_elements)\n"
   ]
  },
  {
   "cell_type": "code",
   "execution_count": 18,
   "id": "093acbd0-71fa-45b0-9ae7-263aa2c3132a",
   "metadata": {},
   "outputs": [
    {
     "name": "stdout",
     "output_type": "stream",
     "text": [
      "Generated array:\n",
      "[684 559 629 192 835 763 707 359   9 723 277 754 804 599  70 472 600 396\n",
      " 314 705 486 551  87 174 600 849 677 537 845  72 777 916 115 976 755 709\n",
      " 847 431 448 850  99 984 177 755 797 659 147 910 423 288 961 265 697 639\n",
      " 544 543 714 244 151 675 510 459 882 183  28 802 128 128 932  53 901 550\n",
      " 488 756 273 335 388 617  42 442 543 888 257 321 999 937  57 291 870 119\n",
      " 779 430  82  91 896 398 611 565 908 633]\n",
      "\n",
      "Prime numbers in the array:\n",
      "[359, 277, 599, 677, 709, 431, 797, 659, 151, 53, 617, 257, 937]\n"
     ]
    }
   ],
   "source": [
    "# Q9. Generate a NumPy array of 100 random integers between 0 and 1000. Find and display all prime numbers in\n",
    "#this array\n",
    "import numpy as np\n",
    "\n",
    "# Function to check if a number is prime\n",
    "def is_prime(num):\n",
    "    if num <= 1:\n",
    "        return False\n",
    "    if num == 2:\n",
    "        return True  # 2 is prime\n",
    "    if num % 2 == 0:\n",
    "        return False  # Even number other than 2\n",
    "    for i in range(3, int(num**0.5) + 1, 2):\n",
    "        if num % i == 0:\n",
    "            return False\n",
    "    return True\n",
    "\n",
    "# Generate a NumPy array of 100 random integers between 0 and 1000\n",
    "np.random.seed(0)  # For reproducibility\n",
    "arr = np.random.randint(0, 1001, 100)\n",
    "\n",
    "# Find and display all prime numbers in the array\n",
    "primes = [num for num in arr if is_prime(num)]\n",
    "\n",
    "print(\"Generated array:\")\n",
    "print(arr)\n",
    "\n",
    "print(\"\\nPrime numbers in the array:\")\n",
    "print(primes)\n"
   ]
  },
  {
   "cell_type": "code",
   "execution_count": 20,
   "id": "42e590cb-a268-469a-83b7-062e1f469bfc",
   "metadata": {},
   "outputs": [
    {
     "name": "stdout",
     "output_type": "stream",
     "text": [
      "Daily temperatures (in degrees Celsius):\n",
      "[31 22 24 15 25 33 26 17 17 18 18 33 29 18 32 33 29 24 16 19 25 26 23 26\n",
      " 17 34 31 15 15]\n",
      "\n",
      "Weekly averages (in degrees Celsius):\n",
      "[25.14285714 21.42857143 25.42857143 24.57142857]\n"
     ]
    }
   ],
   "source": [
    "# Q10. 10. Create a NumPy array representing daily temperatures for a month. Calculate and display the weekly\n",
    "#averages.\n",
    "import numpy as np\n",
    "\n",
    "# Generate random daily temperatures for a month (28-31 days)\n",
    "num_days = np.random.randint(28, 32)  # Generate a random number of days between 28 and 31\n",
    "temperatures = np.random.randint(15, 35, num_days)  # Generate random temperatures between 15 and 35 degrees\n",
    "\n",
    "# Display the generated daily temperatures\n",
    "print(\"Daily temperatures (in degrees Celsius):\")\n",
    "print(temperatures)\n",
    "\n",
    "# Calculate weekly averages\n",
    "# Determine the number of full weeks and reshape accordingly\n",
    "num_weeks = len(temperatures) // 7\n",
    "weeks = temperatures[:num_weeks * 7].reshape(num_weeks, 7)\n",
    "\n",
    "# Calculate the mean (average) of each row (weekly averages)\n",
    "weekly_averages = np.mean(weeks, axis=1)\n",
    "\n",
    "# Display the weekly averages\n",
    "print(\"\\nWeekly averages (in degrees Celsius):\")\n",
    "print(weekly_averages)\n",
    "\n"
   ]
  },
  {
   "cell_type": "code",
   "execution_count": null,
   "id": "795328f0-5ac7-4f92-95c1-0fc55f2d3ed0",
   "metadata": {},
   "outputs": [],
   "source": []
  },
  {
   "cell_type": "code",
   "execution_count": null,
   "id": "31a1747c-7c2d-478b-8984-d08920b462dc",
   "metadata": {},
   "outputs": [],
   "source": []
  }
 ],
 "metadata": {
  "kernelspec": {
   "display_name": "Python 3 (ipykernel)",
   "language": "python",
   "name": "python3"
  },
  "language_info": {
   "codemirror_mode": {
    "name": "ipython",
    "version": 3
   },
   "file_extension": ".py",
   "mimetype": "text/x-python",
   "name": "python",
   "nbconvert_exporter": "python",
   "pygments_lexer": "ipython3",
   "version": "3.10.8"
  }
 },
 "nbformat": 4,
 "nbformat_minor": 5
}
